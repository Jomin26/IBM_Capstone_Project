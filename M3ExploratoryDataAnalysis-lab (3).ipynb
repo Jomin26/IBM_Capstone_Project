{
  "metadata": {
    "kernelspec": {
      "name": "python",
      "display_name": "Python (Pyodide)",
      "language": "python"
    },
    "language_info": {
      "codemirror_mode": {
        "name": "python",
        "version": 3
      },
      "file_extension": ".py",
      "mimetype": "text/x-python",
      "name": "python",
      "nbconvert_exporter": "python",
      "pygments_lexer": "ipython3",
      "version": "3.8"
    },
    "prev_pub_hash": "ade92979dd70141c119d5b4bacc0df03967cedc29c4b7d26b1149404340075d2"
  },
  "nbformat_minor": 4,
  "nbformat": 4,
  "cells": [
    {
      "cell_type": "markdown",
      "source": "<p style=\"text-align:center\">\n    <a href=\"https://skills.network\" target=\"_blank\">\n    <img src=\"https://cf-courses-data.s3.us.cloud-object-storage.appdomain.cloud/assets/logos/SN_web_lightmode.png\" width=\"200\" alt=\"Skills Network Logo\">\n    </a>\n</p>\n",
      "metadata": {}
    },
    {
      "cell_type": "markdown",
      "source": "# **Exploratory Data Analysis Lab**\n",
      "metadata": {}
    },
    {
      "cell_type": "markdown",
      "source": "Estimated time needed: **30** minutes\n",
      "metadata": {}
    },
    {
      "cell_type": "markdown",
      "source": "In this module you get to work with the cleaned dataset from the previous module.\n\nIn this assignment you will perform the task of exploratory data analysis.\nYou will find out the distribution of data, presence of outliers and also determine the correlation between different columns in the dataset.\n",
      "metadata": {}
    },
    {
      "cell_type": "markdown",
      "source": "## Objectives\n",
      "metadata": {}
    },
    {
      "cell_type": "markdown",
      "source": "In this lab you will perform the following:\n",
      "metadata": {}
    },
    {
      "cell_type": "markdown",
      "source": "-   Identify the distribution of data in the dataset.\n\n-   Identify outliers in the dataset.\n\n-   Remove outliers from the dataset.\n\n-   Identify correlation between features in the dataset.\n",
      "metadata": {}
    },
    {
      "cell_type": "markdown",
      "source": "* * *\n",
      "metadata": {}
    },
    {
      "cell_type": "markdown",
      "source": "## Hands on Lab\n",
      "metadata": {}
    },
    {
      "cell_type": "markdown",
      "source": "Import the pandas module.\n",
      "metadata": {}
    },
    {
      "cell_type": "code",
      "source": "import pandas as pd",
      "metadata": {
        "trusted": true
      },
      "outputs": [],
      "execution_count": 10
    },
    {
      "cell_type": "markdown",
      "source": "Load the dataset into a dataframe.\n",
      "metadata": {}
    },
    {
      "cell_type": "markdown",
      "source": "<h2>Read Data</h2>\n<p>\nWe utilize the <code>pandas.read_csv()</code> function for reading CSV files. However, in this version of the lab, which operates on JupyterLite, the dataset needs to be downloaded to the interface using the provided code below.\n</p>\n",
      "metadata": {}
    },
    {
      "cell_type": "markdown",
      "source": "The functions below will download the dataset into your browser:\n",
      "metadata": {}
    },
    {
      "cell_type": "code",
      "source": "from pyodide.http import pyfetch\n\nasync def download(url, filename):\n    response = await pyfetch(url)\n    if response.status == 200:\n        with open(filename, \"wb\") as f:\n            f.write(await response.bytes())",
      "metadata": {
        "trusted": true
      },
      "outputs": [],
      "execution_count": 11
    },
    {
      "cell_type": "code",
      "source": "file_path = \"https://cf-courses-data.s3.us.cloud-object-storage.appdomain.cloud/IBM-DA0321EN-SkillsNetwork/LargeData/m2_survey_data.csv\"",
      "metadata": {
        "trusted": true
      },
      "outputs": [],
      "execution_count": 12
    },
    {
      "cell_type": "markdown",
      "source": "To obtain the dataset, utilize the download() function as defined above:  \n",
      "metadata": {}
    },
    {
      "cell_type": "code",
      "source": "await download(file_path, \"m2_survey_data.csv\")\nfile_name=\"m2_survey_data.csv\"",
      "metadata": {
        "trusted": true
      },
      "outputs": [],
      "execution_count": 13
    },
    {
      "cell_type": "markdown",
      "source": "Utilize the Pandas method read_csv() to load the data into a dataframe.\n",
      "metadata": {}
    },
    {
      "cell_type": "code",
      "source": "df = pd.read_csv(file_name)\ndf.head()\n",
      "metadata": {
        "trusted": true
      },
      "outputs": [
        {
          "execution_count": 25,
          "output_type": "execute_result",
          "data": {
            "text/plain": "   Respondent                      MainBranch Hobbyist  \\\n0           4  I am a developer by profession       No   \n1           9  I am a developer by profession      Yes   \n2          13  I am a developer by profession      Yes   \n3          16  I am a developer by profession      Yes   \n4          17  I am a developer by profession      Yes   \n\n                                         OpenSourcer  \\\n0                                              Never   \n1                         Once a month or more often   \n2  Less than once a month but more than once per ...   \n3                                              Never   \n4  Less than once a month but more than once per ...   \n\n                                          OpenSource          Employment  \\\n0  The quality of OSS and closed source software ...  Employed full-time   \n1  The quality of OSS and closed source software ...  Employed full-time   \n2  OSS is, on average, of HIGHER quality than pro...  Employed full-time   \n3  The quality of OSS and closed source software ...  Employed full-time   \n4  The quality of OSS and closed source software ...  Employed full-time   \n\n          Country Student                                            EdLevel  \\\n0   United States      No           Bachelor’s degree (BA, BS, B.Eng., etc.)   \n1     New Zealand      No  Some college/university study without earning ...   \n2   United States      No        Master’s degree (MA, MS, M.Eng., MBA, etc.)   \n3  United Kingdom      No        Master’s degree (MA, MS, M.Eng., MBA, etc.)   \n4       Australia      No           Bachelor’s degree (BA, BS, B.Eng., etc.)   \n\n                                      UndergradMajor  ...  \\\n0  Computer science, computer engineering, or sof...  ...   \n1  Computer science, computer engineering, or sof...  ...   \n2  Computer science, computer engineering, or sof...  ...   \n3                                                NaN  ...   \n4  Computer science, computer engineering, or sof...  ...   \n\n                              WelcomeChange  \\\n0   Just as welcome now as I felt last year   \n1   Just as welcome now as I felt last year   \n2  Somewhat more welcome now than last year   \n3   Just as welcome now as I felt last year   \n4   Just as welcome now as I felt last year   \n\n                                        SONewContent   Age Gender Trans  \\\n0  Tech articles written by other developers;Indu...  22.0    Man    No   \n1                                                NaN  23.0    Man    No   \n2  Tech articles written by other developers;Cour...  28.0    Man    No   \n3  Tech articles written by other developers;Indu...  26.0    Man    No   \n4  Tech articles written by other developers;Indu...  29.0    Man    No   \n\n                 Sexuality                              Ethnicity Dependents  \\\n0  Straight / Heterosexual           White or of European descent         No   \n1                 Bisexual           White or of European descent         No   \n2  Straight / Heterosexual           White or of European descent        Yes   \n3  Straight / Heterosexual           White or of European descent         No   \n4  Straight / Heterosexual  Hispanic or Latino/Latina;Multiracial         No   \n\n            SurveyLength                  SurveyEase  \n0  Appropriate in length                        Easy  \n1  Appropriate in length  Neither easy nor difficult  \n2  Appropriate in length                        Easy  \n3  Appropriate in length  Neither easy nor difficult  \n4  Appropriate in length                        Easy  \n\n[5 rows x 85 columns]",
            "text/html": "<div>\n<style scoped>\n    .dataframe tbody tr th:only-of-type {\n        vertical-align: middle;\n    }\n\n    .dataframe tbody tr th {\n        vertical-align: top;\n    }\n\n    .dataframe thead th {\n        text-align: right;\n    }\n</style>\n<table border=\"1\" class=\"dataframe\">\n  <thead>\n    <tr style=\"text-align: right;\">\n      <th></th>\n      <th>Respondent</th>\n      <th>MainBranch</th>\n      <th>Hobbyist</th>\n      <th>OpenSourcer</th>\n      <th>OpenSource</th>\n      <th>Employment</th>\n      <th>Country</th>\n      <th>Student</th>\n      <th>EdLevel</th>\n      <th>UndergradMajor</th>\n      <th>...</th>\n      <th>WelcomeChange</th>\n      <th>SONewContent</th>\n      <th>Age</th>\n      <th>Gender</th>\n      <th>Trans</th>\n      <th>Sexuality</th>\n      <th>Ethnicity</th>\n      <th>Dependents</th>\n      <th>SurveyLength</th>\n      <th>SurveyEase</th>\n    </tr>\n  </thead>\n  <tbody>\n    <tr>\n      <th>0</th>\n      <td>4</td>\n      <td>I am a developer by profession</td>\n      <td>No</td>\n      <td>Never</td>\n      <td>The quality of OSS and closed source software ...</td>\n      <td>Employed full-time</td>\n      <td>United States</td>\n      <td>No</td>\n      <td>Bachelor’s degree (BA, BS, B.Eng., etc.)</td>\n      <td>Computer science, computer engineering, or sof...</td>\n      <td>...</td>\n      <td>Just as welcome now as I felt last year</td>\n      <td>Tech articles written by other developers;Indu...</td>\n      <td>22.0</td>\n      <td>Man</td>\n      <td>No</td>\n      <td>Straight / Heterosexual</td>\n      <td>White or of European descent</td>\n      <td>No</td>\n      <td>Appropriate in length</td>\n      <td>Easy</td>\n    </tr>\n    <tr>\n      <th>1</th>\n      <td>9</td>\n      <td>I am a developer by profession</td>\n      <td>Yes</td>\n      <td>Once a month or more often</td>\n      <td>The quality of OSS and closed source software ...</td>\n      <td>Employed full-time</td>\n      <td>New Zealand</td>\n      <td>No</td>\n      <td>Some college/university study without earning ...</td>\n      <td>Computer science, computer engineering, or sof...</td>\n      <td>...</td>\n      <td>Just as welcome now as I felt last year</td>\n      <td>NaN</td>\n      <td>23.0</td>\n      <td>Man</td>\n      <td>No</td>\n      <td>Bisexual</td>\n      <td>White or of European descent</td>\n      <td>No</td>\n      <td>Appropriate in length</td>\n      <td>Neither easy nor difficult</td>\n    </tr>\n    <tr>\n      <th>2</th>\n      <td>13</td>\n      <td>I am a developer by profession</td>\n      <td>Yes</td>\n      <td>Less than once a month but more than once per ...</td>\n      <td>OSS is, on average, of HIGHER quality than pro...</td>\n      <td>Employed full-time</td>\n      <td>United States</td>\n      <td>No</td>\n      <td>Master’s degree (MA, MS, M.Eng., MBA, etc.)</td>\n      <td>Computer science, computer engineering, or sof...</td>\n      <td>...</td>\n      <td>Somewhat more welcome now than last year</td>\n      <td>Tech articles written by other developers;Cour...</td>\n      <td>28.0</td>\n      <td>Man</td>\n      <td>No</td>\n      <td>Straight / Heterosexual</td>\n      <td>White or of European descent</td>\n      <td>Yes</td>\n      <td>Appropriate in length</td>\n      <td>Easy</td>\n    </tr>\n    <tr>\n      <th>3</th>\n      <td>16</td>\n      <td>I am a developer by profession</td>\n      <td>Yes</td>\n      <td>Never</td>\n      <td>The quality of OSS and closed source software ...</td>\n      <td>Employed full-time</td>\n      <td>United Kingdom</td>\n      <td>No</td>\n      <td>Master’s degree (MA, MS, M.Eng., MBA, etc.)</td>\n      <td>NaN</td>\n      <td>...</td>\n      <td>Just as welcome now as I felt last year</td>\n      <td>Tech articles written by other developers;Indu...</td>\n      <td>26.0</td>\n      <td>Man</td>\n      <td>No</td>\n      <td>Straight / Heterosexual</td>\n      <td>White or of European descent</td>\n      <td>No</td>\n      <td>Appropriate in length</td>\n      <td>Neither easy nor difficult</td>\n    </tr>\n    <tr>\n      <th>4</th>\n      <td>17</td>\n      <td>I am a developer by profession</td>\n      <td>Yes</td>\n      <td>Less than once a month but more than once per ...</td>\n      <td>The quality of OSS and closed source software ...</td>\n      <td>Employed full-time</td>\n      <td>Australia</td>\n      <td>No</td>\n      <td>Bachelor’s degree (BA, BS, B.Eng., etc.)</td>\n      <td>Computer science, computer engineering, or sof...</td>\n      <td>...</td>\n      <td>Just as welcome now as I felt last year</td>\n      <td>Tech articles written by other developers;Indu...</td>\n      <td>29.0</td>\n      <td>Man</td>\n      <td>No</td>\n      <td>Straight / Heterosexual</td>\n      <td>Hispanic or Latino/Latina;Multiracial</td>\n      <td>No</td>\n      <td>Appropriate in length</td>\n      <td>Easy</td>\n    </tr>\n  </tbody>\n</table>\n<p>5 rows × 85 columns</p>\n</div>"
          },
          "metadata": {}
        }
      ],
      "execution_count": 25
    },
    {
      "cell_type": "markdown",
      "source": "> Note: This version of the lab is working on JupyterLite, which requires the dataset to be downloaded to the interface.While working on the downloaded version of this notebook on their local machines(Jupyter Anaconda), the learners can simply **skip the steps above,** and simply use the URL directly in the `pandas.read_csv()` function. You can uncomment and run the statements in the cell below.\n",
      "metadata": {}
    },
    {
      "cell_type": "code",
      "source": "#df = pd.read_csv(\"https://cf-courses-data.s3.us.cloud-object-storage.appdomain.cloud/IBM-DA0321EN-SkillsNetwork/LargeData/m2_survey_data.csv\")",
      "metadata": {
        "trusted": true
      },
      "outputs": [],
      "execution_count": 16
    },
    {
      "cell_type": "markdown",
      "source": "## Distribution\n",
      "metadata": {}
    },
    {
      "cell_type": "markdown",
      "source": "### Determine how the data is distributed\n",
      "metadata": {}
    },
    {
      "cell_type": "markdown",
      "source": "The column `ConvertedComp` contains Salary converted to annual USD salaries using the exchange rate on 2019-02-01.\n\nThis assumes 12 working months and 50 working weeks.\n",
      "metadata": {}
    },
    {
      "cell_type": "markdown",
      "source": "Plot the distribution curve for the column `ConvertedComp`.\n",
      "metadata": {}
    },
    {
      "cell_type": "code",
      "source": "# your code goes here\n\ndf.shape",
      "metadata": {
        "trusted": true
      },
      "outputs": [
        {
          "execution_count": 17,
          "output_type": "execute_result",
          "data": {
            "text/plain": "(11398, 85)"
          },
          "metadata": {}
        }
      ],
      "execution_count": 17
    },
    {
      "cell_type": "code",
      "source": "df.columns",
      "metadata": {
        "trusted": true
      },
      "outputs": [
        {
          "execution_count": 18,
          "output_type": "execute_result",
          "data": {
            "text/plain": "Index(['Respondent', 'MainBranch', 'Hobbyist', 'OpenSourcer', 'OpenSource',\n       'Employment', 'Country', 'Student', 'EdLevel', 'UndergradMajor',\n       'EduOther', 'OrgSize', 'DevType', 'YearsCode', 'Age1stCode',\n       'YearsCodePro', 'CareerSat', 'JobSat', 'MgrIdiot', 'MgrMoney',\n       'MgrWant', 'JobSeek', 'LastHireDate', 'LastInt', 'FizzBuzz',\n       'JobFactors', 'ResumeUpdate', 'CurrencySymbol', 'CurrencyDesc',\n       'CompTotal', 'CompFreq', 'ConvertedComp', 'WorkWeekHrs', 'WorkPlan',\n       'WorkChallenge', 'WorkRemote', 'WorkLoc', 'ImpSyn', 'CodeRev',\n       'CodeRevHrs', 'UnitTests', 'PurchaseHow', 'PurchaseWhat',\n       'LanguageWorkedWith', 'LanguageDesireNextYear', 'DatabaseWorkedWith',\n       'DatabaseDesireNextYear', 'PlatformWorkedWith',\n       'PlatformDesireNextYear', 'WebFrameWorkedWith',\n       'WebFrameDesireNextYear', 'MiscTechWorkedWith',\n       'MiscTechDesireNextYear', 'DevEnviron', 'OpSys', 'Containers',\n       'BlockchainOrg', 'BlockchainIs', 'BetterLife', 'ITperson', 'OffOn',\n       'SocialMedia', 'Extraversion', 'ScreenName', 'SOVisit1st',\n       'SOVisitFreq', 'SOVisitTo', 'SOFindAnswer', 'SOTimeSaved',\n       'SOHowMuchTime', 'SOAccount', 'SOPartFreq', 'SOJobs', 'EntTeams',\n       'SOComm', 'WelcomeChange', 'SONewContent', 'Age', 'Gender', 'Trans',\n       'Sexuality', 'Ethnicity', 'Dependents', 'SurveyLength', 'SurveyEase'],\n      dtype='object')"
          },
          "metadata": {}
        }
      ],
      "execution_count": 18
    },
    {
      "cell_type": "code",
      "source": "%pip install seaborn",
      "metadata": {
        "trusted": true
      },
      "outputs": [],
      "execution_count": 29
    },
    {
      "cell_type": "code",
      "source": "import seaborn as sns\nimport matplotlib as plt\n%matplotlib inline",
      "metadata": {
        "trusted": true
      },
      "outputs": [],
      "execution_count": 31
    },
    {
      "cell_type": "code",
      "source": "sns.displot(df['ConvertedComp'], kind=\"kde\", height=7, aspect = 1.5)",
      "metadata": {
        "trusted": true
      },
      "outputs": [
        {
          "execution_count": 32,
          "output_type": "execute_result",
          "data": {
            "text/plain": "<seaborn.axisgrid.FacetGrid at 0x7f21048>"
          },
          "metadata": {}
        },
        {
          "output_type": "display_data",
          "data": {
            "text/plain": "<Figure size 1050x700 with 1 Axes>",
            "image/png": "[encoded data removed]"
          },
          "metadata": {}
        }
      ],
      "execution_count": 32
    },
    {
      "cell_type": "code",
      "source": "Plot the histogram for the column ConvertedComp.",
      "metadata": {
        "trusted": true
      },
      "outputs": [],
      "execution_count": null
    },
    {
      "cell_type": "code",
      "source": "sns.displot(df['ConvertedComp'],bins=50, height=7, aspect = 1.5)",
      "metadata": {
        "trusted": true
      },
      "outputs": [
        {
          "execution_count": 34,
          "output_type": "execute_result",
          "data": {
            "text/plain": "<seaborn.axisgrid.FacetGrid at 0x6c0ab08>"
          },
          "metadata": {}
        },
        {
          "output_type": "display_data",
          "data": {
            "text/plain": "<Figure size 1050x700 with 1 Axes>",
            "image/png": "[encoded data removed]"
          },
          "metadata": {}
        }
      ],
      "execution_count": 34
    },
    {
      "cell_type": "markdown",
      "source": "What is the median of the column `ConvertedComp`?\n",
      "metadata": {}
    },
    {
      "cell_type": "code",
      "source": "# your code goes here\nmedian_con = df['ConvertedComp'].median(axis=0)\nprint(\"Median of CovertComp:\", median_con)",
      "metadata": {
        "trusted": true
      },
      "outputs": [
        {
          "name": "stdout",
          "text": "Median of CovertComp: 57745.0\n",
          "output_type": "stream"
        }
      ],
      "execution_count": 35
    },
    {
      "cell_type": "markdown",
      "source": "How many responders identified themselves only as a **Man**?\n",
      "metadata": {}
    },
    {
      "cell_type": "code",
      "source": "# your code goes here\ndf['Gender'].value_counts()",
      "metadata": {
        "trusted": true
      },
      "outputs": [
        {
          "execution_count": 36,
          "output_type": "execute_result",
          "data": {
            "text/plain": "Man                                                            10480\nWoman                                                            731\nNon-binary, genderqueer, or gender non-conforming                 63\nMan;Non-binary, genderqueer, or gender non-conforming             26\nWoman;Non-binary, genderqueer, or gender non-conforming           14\nWoman;Man                                                          9\nWoman;Man;Non-binary, genderqueer, or gender non-conforming        2\nName: Gender, dtype: int64"
          },
          "metadata": {}
        }
      ],
      "execution_count": 36
    },
    {
      "cell_type": "markdown",
      "source": "Find out the  median ConvertedComp of responders identified themselves only as a **Woman**?\n",
      "metadata": {}
    },
    {
      "cell_type": "code",
      "source": "# your code goes here\ndf_womancon = df[df['Gender'] == 'Woman']\nprint(\"ConvertedComp identified only as a Woman :\",df_womancon['ConvertedComp'].median())",
      "metadata": {
        "trusted": true
      },
      "outputs": [
        {
          "name": "stdout",
          "text": "ConvertedComp identified only as a Woman : 57708.0\n",
          "output_type": "stream"
        }
      ],
      "execution_count": 37
    },
    {
      "cell_type": "markdown",
      "source": "Give the five number summary for the column `Age`?\n",
      "metadata": {}
    },
    {
      "cell_type": "markdown",
      "source": "**Double click here for hint**.\n\n<!--\nmin,q1,median,q3,max of a column are its five number summary.\n-->\n",
      "metadata": {}
    },
    {
      "cell_type": "code",
      "source": "# your code goes here\ndf['Age'].describe()",
      "metadata": {
        "trusted": true
      },
      "outputs": [
        {
          "execution_count": 38,
          "output_type": "execute_result",
          "data": {
            "text/plain": "count    11111.000000\nmean        30.778895\nstd          7.393686\nmin         16.000000\n25%         25.000000\n50%         29.000000\n75%         35.000000\nmax         99.000000\nName: Age, dtype: float64"
          },
          "metadata": {}
        }
      ],
      "execution_count": 38
    },
    {
      "cell_type": "markdown",
      "source": "Plot a histogram of the column `Age`.\n",
      "metadata": {}
    },
    {
      "cell_type": "code",
      "source": "# your code goes here\nplt.pyplot.hist(df['Age'])",
      "metadata": {
        "trusted": true
      },
      "outputs": [
        {
          "execution_count": 39,
          "output_type": "execute_result",
          "data": {
            "text/plain": "(array([2.094e+03, 5.337e+03, 2.557e+03, 8.420e+02, 2.250e+02, 4.900e+01,\n        6.000e+00, 0.000e+00, 0.000e+00, 1.000e+00]),\n array([16. , 24.3, 32.6, 40.9, 49.2, 57.5, 65.8, 74.1, 82.4, 90.7, 99. ]),\n <BarContainer object of 10 artists>)"
          },
          "metadata": {}
        },
        {
          "output_type": "display_data",
          "data": {
            "text/plain": "<Figure size 640x480 with 1 Axes>",
            "image/png": "[encoded data removed]"
          },
          "metadata": {}
        }
      ],
      "execution_count": 39
    },
    {
      "cell_type": "markdown",
      "source": "## Outliers\n",
      "metadata": {}
    },
    {
      "cell_type": "markdown",
      "source": "### Finding outliers\n",
      "metadata": {}
    },
    {
      "cell_type": "markdown",
      "source": "Find out if outliers exist in the column `ConvertedComp` using a box plot?\n",
      "metadata": {}
    },
    {
      "cell_type": "code",
      "source": "# your code goes here\nsns.boxplot(x=df['ConvertedComp'],data=df)",
      "metadata": {
        "trusted": true
      },
      "outputs": [
        {
          "execution_count": 40,
          "output_type": "execute_result",
          "data": {
            "text/plain": "<AxesSubplot:xlabel='ConvertedComp'>"
          },
          "metadata": {}
        },
        {
          "output_type": "display_data",
          "data": {
            "text/plain": "<Figure size 640x480 with 1 Axes>",
            "image/png": "[encoded data removed]"
          },
          "metadata": {}
        }
      ],
      "execution_count": 40
    },
    {
      "cell_type": "markdown",
      "source": "Find out the Inter Quartile Range for the column `ConvertedComp`.\n",
      "metadata": {}
    },
    {
      "cell_type": "code",
      "source": "# your code goes here\nq1 = df['ConvertedComp'].quantile(0.25)\nq3 = df['ConvertedComp'].quantile(0.75)\n\nprint('Q1', q1)\nprint('Q3', q3)\n\nIQR = q3 - q1\nprint('IQR', IQR)",
      "metadata": {
        "trusted": true
      },
      "outputs": [
        {
          "name": "stdout",
          "text": "Q1 26868.0\nQ3 100000.0\nIQR 73132.0\n",
          "output_type": "stream"
        }
      ],
      "execution_count": 41
    },
    {
      "cell_type": "markdown",
      "source": "Find out the upper and lower bounds.\n",
      "metadata": {}
    },
    {
      "cell_type": "code",
      "source": "# your code goes here\nup_bound = q3 + IQR*1.5\nprint('Upper bound:', up_bound)\n\nlw_bound = q1 - IQR*1.5\nprint('Lower bound:', lw_bound)",
      "metadata": {
        "trusted": true
      },
      "outputs": [
        {
          "name": "stdout",
          "text": "Upper bound: 209698.0\nLower bound: -82830.0\n",
          "output_type": "stream"
        }
      ],
      "execution_count": 42
    },
    {
      "cell_type": "markdown",
      "source": "Identify how many outliers are there in the `ConvertedComp` column.\n",
      "metadata": {}
    },
    {
      "cell_type": "code",
      "source": "# your code goes here\nnum_outliers = 0\n\nfor conv_comp in df['ConvertedComp']:\n    if (conv_comp < lw_bound) or (conv_comp > up_bound):\n        num_outliers = num_outliers + 1\n\nnum_outliers",
      "metadata": {
        "trusted": true
      },
      "outputs": [
        {
          "execution_count": 43,
          "output_type": "execute_result",
          "data": {
            "text/plain": "879"
          },
          "metadata": {}
        }
      ],
      "execution_count": 43
    },
    {
      "cell_type": "code",
      "source": "What is the median ConvertedComp before removing outliers?",
      "metadata": {
        "trusted": true
      },
      "outputs": [],
      "execution_count": null
    },
    {
      "cell_type": "code",
      "source": "df['ConvertedComp'].quantile(0.5)",
      "metadata": {
        "trusted": true
      },
      "outputs": [
        {
          "execution_count": 44,
          "output_type": "execute_result",
          "data": {
            "text/plain": "57745.0"
          },
          "metadata": {}
        }
      ],
      "execution_count": 44
    },
    {
      "cell_type": "markdown",
      "source": "Create a new dataframe by removing the outliers from the `ConvertedComp` column.\n",
      "metadata": {}
    },
    {
      "cell_type": "code",
      "source": "# your code goes here\noutl_index = df[(df.ConvertedComp < lw_bound) | (df.ConvertedComp > up_bound)].index\n\ndf_outl = df.drop(outl_index)\ndf_outl.shape\n",
      "metadata": {
        "trusted": true
      },
      "outputs": [
        {
          "execution_count": 45,
          "output_type": "execute_result",
          "data": {
            "text/plain": "(10519, 85)"
          },
          "metadata": {}
        }
      ],
      "execution_count": 45
    },
    {
      "cell_type": "code",
      "source": "df_outl.describe()",
      "metadata": {
        "trusted": true
      },
      "outputs": [
        {
          "execution_count": 46,
          "output_type": "execute_result",
          "data": {
            "text/plain": "         Respondent     CompTotal  ConvertedComp   WorkWeekHrs   CodeRevHrs  \\\ncount  10519.000000  9.710000e+03    9703.000000  10402.000000  8277.000000   \nmean   12488.961023  7.243963e+05   59883.208389     41.895813     4.809352   \nstd     7235.797316  7.184433e+06   43394.336755     24.301665     4.636411   \nmin        4.000000  0.000000e+00       0.000000      3.000000     0.000000   \n25%     6257.500000  2.000000e+04   24060.000000     40.000000     2.000000   \n50%    12483.000000  6.300000e+04   52704.000000     40.000000     4.000000   \n75%    18789.500000  1.150000e+05   85574.500000     43.000000     5.000000   \nmax    25142.000000  3.900000e+08  209356.000000   1012.000000    99.000000   \n\n                Age  \ncount  10250.000000  \nmean      30.647298  \nstd        7.352928  \nmin       16.000000  \n25%       25.000000  \n50%       29.000000  \n75%       34.000000  \nmax       99.000000  ",
            "text/html": "<div>\n<style scoped>\n    .dataframe tbody tr th:only-of-type {\n        vertical-align: middle;\n    }\n\n    .dataframe tbody tr th {\n        vertical-align: top;\n    }\n\n    .dataframe thead th {\n        text-align: right;\n    }\n</style>\n<table border=\"1\" class=\"dataframe\">\n  <thead>\n    <tr style=\"text-align: right;\">\n      <th></th>\n      <th>Respondent</th>\n      <th>CompTotal</th>\n      <th>ConvertedComp</th>\n      <th>WorkWeekHrs</th>\n      <th>CodeRevHrs</th>\n      <th>Age</th>\n    </tr>\n  </thead>\n  <tbody>\n    <tr>\n      <th>count</th>\n      <td>10519.000000</td>\n      <td>9.710000e+03</td>\n      <td>9703.000000</td>\n      <td>10402.000000</td>\n      <td>8277.000000</td>\n      <td>10250.000000</td>\n    </tr>\n    <tr>\n      <th>mean</th>\n      <td>12488.961023</td>\n      <td>7.243963e+05</td>\n      <td>59883.208389</td>\n      <td>41.895813</td>\n      <td>4.809352</td>\n      <td>30.647298</td>\n    </tr>\n    <tr>\n      <th>std</th>\n      <td>7235.797316</td>\n      <td>7.184433e+06</td>\n      <td>43394.336755</td>\n      <td>24.301665</td>\n      <td>4.636411</td>\n      <td>7.352928</td>\n    </tr>\n    <tr>\n      <th>min</th>\n      <td>4.000000</td>\n      <td>0.000000e+00</td>\n      <td>0.000000</td>\n      <td>3.000000</td>\n      <td>0.000000</td>\n      <td>16.000000</td>\n    </tr>\n    <tr>\n      <th>25%</th>\n      <td>6257.500000</td>\n      <td>2.000000e+04</td>\n      <td>24060.000000</td>\n      <td>40.000000</td>\n      <td>2.000000</td>\n      <td>25.000000</td>\n    </tr>\n    <tr>\n      <th>50%</th>\n      <td>12483.000000</td>\n      <td>6.300000e+04</td>\n      <td>52704.000000</td>\n      <td>40.000000</td>\n      <td>4.000000</td>\n      <td>29.000000</td>\n    </tr>\n    <tr>\n      <th>75%</th>\n      <td>18789.500000</td>\n      <td>1.150000e+05</td>\n      <td>85574.500000</td>\n      <td>43.000000</td>\n      <td>5.000000</td>\n      <td>34.000000</td>\n    </tr>\n    <tr>\n      <th>max</th>\n      <td>25142.000000</td>\n      <td>3.900000e+08</td>\n      <td>209356.000000</td>\n      <td>1012.000000</td>\n      <td>99.000000</td>\n      <td>99.000000</td>\n    </tr>\n  </tbody>\n</table>\n</div>"
          },
          "metadata": {}
        }
      ],
      "execution_count": 46
    },
    {
      "cell_type": "markdown",
      "source": "## Correlation\n",
      "metadata": {}
    },
    {
      "cell_type": "markdown",
      "source": "### Finding correlation\n",
      "metadata": {}
    },
    {
      "cell_type": "markdown",
      "source": "Find the correlation between `Age` and all other numerical columns.\n",
      "metadata": {}
    },
    {
      "cell_type": "code",
      "source": "# your code goes here\ndf.corr()",
      "metadata": {
        "trusted": true
      },
      "outputs": [
        {
          "name": "stderr",
          "text": "<ipython-input-47-2278162ba8b1>:2: FutureWarning: The default value of numeric_only in DataFrame.corr is deprecated. In a future version, it will default to False. Select only valid columns or specify the value of numeric_only to silence this warning.\n  df.corr()\n",
          "output_type": "stream"
        },
        {
          "execution_count": 47,
          "output_type": "execute_result",
          "data": {
            "text/plain": "               Respondent  CompTotal  ConvertedComp  WorkWeekHrs  CodeRevHrs  \\\nRespondent       1.000000  -0.013490       0.002181    -0.015314    0.004621   \nCompTotal       -0.013490   1.000000       0.001037     0.003510    0.007063   \nConvertedComp    0.002181   0.001037       1.000000     0.021143   -0.033865   \nWorkWeekHrs     -0.015314   0.003510       0.021143     1.000000    0.026517   \nCodeRevHrs       0.004621   0.007063      -0.033865     0.026517    1.000000   \nAge              0.004041   0.006970       0.105386     0.036518   -0.020469   \n\n                    Age  \nRespondent     0.004041  \nCompTotal      0.006970  \nConvertedComp  0.105386  \nWorkWeekHrs    0.036518  \nCodeRevHrs    -0.020469  \nAge            1.000000  ",
            "text/html": "<div>\n<style scoped>\n    .dataframe tbody tr th:only-of-type {\n        vertical-align: middle;\n    }\n\n    .dataframe tbody tr th {\n        vertical-align: top;\n    }\n\n    .dataframe thead th {\n        text-align: right;\n    }\n</style>\n<table border=\"1\" class=\"dataframe\">\n  <thead>\n    <tr style=\"text-align: right;\">\n      <th></th>\n      <th>Respondent</th>\n      <th>CompTotal</th>\n      <th>ConvertedComp</th>\n      <th>WorkWeekHrs</th>\n      <th>CodeRevHrs</th>\n      <th>Age</th>\n    </tr>\n  </thead>\n  <tbody>\n    <tr>\n      <th>Respondent</th>\n      <td>1.000000</td>\n      <td>-0.013490</td>\n      <td>0.002181</td>\n      <td>-0.015314</td>\n      <td>0.004621</td>\n      <td>0.004041</td>\n    </tr>\n    <tr>\n      <th>CompTotal</th>\n      <td>-0.013490</td>\n      <td>1.000000</td>\n      <td>0.001037</td>\n      <td>0.003510</td>\n      <td>0.007063</td>\n      <td>0.006970</td>\n    </tr>\n    <tr>\n      <th>ConvertedComp</th>\n      <td>0.002181</td>\n      <td>0.001037</td>\n      <td>1.000000</td>\n      <td>0.021143</td>\n      <td>-0.033865</td>\n      <td>0.105386</td>\n    </tr>\n    <tr>\n      <th>WorkWeekHrs</th>\n      <td>-0.015314</td>\n      <td>0.003510</td>\n      <td>0.021143</td>\n      <td>1.000000</td>\n      <td>0.026517</td>\n      <td>0.036518</td>\n    </tr>\n    <tr>\n      <th>CodeRevHrs</th>\n      <td>0.004621</td>\n      <td>0.007063</td>\n      <td>-0.033865</td>\n      <td>0.026517</td>\n      <td>1.000000</td>\n      <td>-0.020469</td>\n    </tr>\n    <tr>\n      <th>Age</th>\n      <td>0.004041</td>\n      <td>0.006970</td>\n      <td>0.105386</td>\n      <td>0.036518</td>\n      <td>-0.020469</td>\n      <td>1.000000</td>\n    </tr>\n  </tbody>\n</table>\n</div>"
          },
          "metadata": {}
        }
      ],
      "execution_count": 47
    },
    {
      "cell_type": "markdown",
      "source": "## Authors\n",
      "metadata": {}
    },
    {
      "cell_type": "markdown",
      "source": "Ramesh Sannareddy\n",
      "metadata": {}
    },
    {
      "cell_type": "markdown",
      "source": "### Other Contributors\n",
      "metadata": {}
    },
    {
      "cell_type": "markdown",
      "source": "Rav Ahuja\n",
      "metadata": {}
    },
    {
      "cell_type": "markdown",
      "source": "## Change Log\n",
      "metadata": {}
    },
    {
      "cell_type": "markdown",
      "source": "| Date (YYYY-MM-DD) | Version | Changed By        | Change Description                 |\n| ----------------- | ------- | ----------------- | ---------------------------------- |\n| 2020-10-17        | 0.1     | Ramesh Sannareddy | Created initial version of the lab |\n",
      "metadata": {}
    },
    {
      "cell_type": "markdown",
      "source": " Copyright © 2020 IBM Corporation. This notebook and its source code are released under the terms of the [MIT License](https://cognitiveclass.ai/mit-license?cm_mmc=Email_Newsletter-_-Developer_Ed%2BTech-_-WW_WW-_-SkillsNetwork-Courses-IBM-DA0321EN-SkillsNetwork-21426264&cm_mmca1=000026UJ&cm_mmca2=10006555&cm_mmca3=M12345678&cvosrc=email.Newsletter.M12345678&cvo_campaign=000026UJ&cm_mmc=Email_Newsletter-_-Developer_Ed%2BTech-_-WW_WW-_-SkillsNetwork-Courses-IBM-DA0321EN-SkillsNetwork-21426264&cm_mmca1=000026UJ&cm_mmca2=10006555&cm_mmca3=M12345678&cvosrc=email.Newsletter.M12345678&cvo_campaign=000026UJ&cm_mmc=Email_Newsletter-_-Developer_Ed%2BTech-_-WW_WW-_-SkillsNetwork-Courses-IBM-DA0321EN-SkillsNetwork-21426264&cm_mmca1=000026UJ&cm_mmca2=10006555&cm_mmca3=M12345678&cvosrc=email.Newsletter.M12345678&cvo_campaign=000026UJ&cm_mmc=Email_Newsletter-_-Developer_Ed%2BTech-_-WW_WW-_-SkillsNetwork-Courses-IBM-DA0321EN-SkillsNetwork-21426264&cm_mmca1=000026UJ&cm_mmca2=10006555&cm_mmca3=M12345678&cvosrc=email.Newsletter.M12345678&cvo_campaign=000026UJ).\n",
      "metadata": {}
    }
  ]
}